{
 "cells": [
  {
   "cell_type": "markdown",
   "metadata": {},
   "source": [
    "# Code for Dashboard"
   ]
  },
  {
   "cell_type": "markdown",
   "metadata": {},
   "source": [
    "## Import Library"
   ]
  },
  {
   "cell_type": "code",
   "execution_count": null,
   "metadata": {},
   "outputs": [],
   "source": [
    "import pandas as pd\n",
    "import plotly.express as px\n",
    "import streamlit as st"
   ]
  },
  {
   "cell_type": "markdown",
   "metadata": {},
   "source": [
    "## Read Data"
   ]
  },
  {
   "cell_type": "code",
   "execution_count": null,
   "metadata": {},
   "outputs": [],
   "source": [
    "employ_merge = pd.read_pickle('data/employ_clean.pkl')\n",
    "coord = pd.read_csv('data/coordinate.csv')"
   ]
  },
  {
   "cell_type": "markdown",
   "metadata": {},
   "source": [
    "## Visualizations"
   ]
  },
  {
   "cell_type": "markdown",
   "metadata": {},
   "source": [
    "### Line Plot: Joining Frequency over Time"
   ]
  },
  {
   "cell_type": "code",
   "execution_count": null,
   "metadata": {},
   "outputs": [],
   "source": [
    "# data: line plot\n",
    "df_join = pd.crosstab(index=employ_merge['join_year'],\n",
    "                       columns='join_count', \n",
    "                       colnames=[None])\n",
    "df_join = df_join.reset_index()\n",
    "\n",
    "# plot: line plot\n",
    "plot_join = px.line(df_join, x='join_year', y='join_count', markers=True,\n",
    "                     labels = {\n",
    "                         'join_year' : 'Year',\n",
    "                         'join_count' : 'Employee Joining'})"
   ]
  },
  {
   "cell_type": "markdown",
   "metadata": {},
   "source": [
    "### Map: Employee Count across Indonesia"
   ]
  },
  {
   "cell_type": "code",
   "execution_count": null,
   "metadata": {},
   "outputs": [],
   "source": [
    "# data: map\n",
    "prov_gender = pd.crosstab(index=employ_merge['province'],\n",
    "                        columns=employ_merge['gender'], colnames=[None])\n",
    "prov_gender['Total'] = prov_gender['Female'] + prov_gender['Male']\n",
    "df_map = prov_gender.merge(coord, on='province')\n",
    "\n",
    "# plot: map\n",
    "plot_map = px.scatter_mapbox(data_frame=df_map, lat='latitude', lon='longitude',\n",
    "                             mapbox_style='carto-positron', zoom=3,\n",
    "                             size='Total',\n",
    "                             hover_name='province',\n",
    "                             hover_data={'Male': True,\n",
    "                                         'Female': True,\n",
    "                                         'latitude': False,\n",
    "                                         'longitude': False})"
   ]
  },
  {
   "cell_type": "markdown",
   "metadata": {},
   "source": [
    "### Barplot: Employee Count per Generation in Customer Service Dept."
   ]
  },
  {
   "cell_type": "code",
   "execution_count": null,
   "metadata": {},
   "outputs": [],
   "source": [
    "# data: barplot\n",
    "employ_cs = employ_merge[employ_merge['department_name'] == 'Customer Service']\n",
    "df_gen = pd.crosstab(index=employ_cs['generation'], columns='num_people', colnames=[None])\n",
    "df_gen = df_gen.reset_index()\n",
    "\n",
    "# plot: barplot\n",
    "plot_gen = px.bar(df_gen, x='generation', y='num_people', \n",
    "                   labels = {'generation' : 'Generation',\n",
    "                             'num_people' : 'Employee Count'})"
   ]
  },
  {
   "cell_type": "markdown",
   "metadata": {},
   "source": [
    "### Multivariate: Gender per Department, Age 20 to 50"
   ]
  },
  {
   "cell_type": "code",
   "execution_count": null,
   "metadata": {},
   "outputs": [],
   "source": [
    "# data: multivariate\n",
    "employ_age = employ_merge[employ_merge['age'].between(left=20, right=50)]\n",
    "dept_gender = pd.crosstab(index=employ_age['department_name'],\n",
    "                          columns=employ_age['gender'],\n",
    "                          colnames=[None])\n",
    "dept_gender_melt = dept_gender.melt(ignore_index=False, var_name='gender', value_name='num_people')\n",
    "dept_gender_melt = dept_gender_melt.reset_index()\n",
    "\n",
    "# plot: multivariate\n",
    "plot_dept = px.bar(dept_gender_melt.sort_values(by='num_people'), \n",
    "                   x=\"num_people\", y=\"department_name\", \n",
    "                   color=\"gender\", \n",
    "                   barmode='group',\n",
    "                   labels = {'num_people' : 'Employee Count',\n",
    "                             'department_name' : 'Department',\n",
    "                             'gender': 'Gender'}\n",
    "                             )"
   ]
  }
 ],
 "metadata": {
  "kernelspec": {
   "display_name": "dss-ktp",
   "language": "python",
   "name": "python3"
  },
  "language_info": {
   "name": "python",
   "version": "3.10.13"
  }
 },
 "nbformat": 4,
 "nbformat_minor": 2
}
